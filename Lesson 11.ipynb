{
 "cells": [
  {
   "attachments": {},
   "cell_type": "markdown",
   "metadata": {},
   "source": [
    "1. Create a program that will ask user to search a word. Search this word in Giphy (use their API). Return links to these GIFs as a result\n",
    "\n",
    "P.S. My API key is hidden)"
   ]
  },
  {
   "cell_type": "code",
   "execution_count": 1,
   "metadata": {},
   "outputs": [
    {
     "name": "stdout",
     "output_type": "stream",
     "text": [
      "['https://giphy.com/gifs/topshelfrecords-topshelf-records-diamond-youth-cant-shake-the-feeling-xT5LMUPL7RwClhl8Yg', 'https://giphy.com/gifs/studiosoriginals-n1mNS67yQhtzzAN5H3', 'https://giphy.com/gifs/banana-cw8Nr4u28tVKw', 'https://giphy.com/gifs/eating-banana-drill-1fHlf4mgS2JPy', 'https://giphy.com/gifs/despicable-me-minions-gif-1uPiL9Amv5zkk', 'https://giphy.com/gifs/cheryl-suburgatory-hines-APVsuygKOLoUE', 'https://giphy.com/gifs/studiosoriginals-2vSk4f18Fyw2f26G32', 'https://giphy.com/gifs/1AD3TMRwXlNgk', 'https://giphy.com/gifs/banana-maz-mazzi-pwHBncQbG9FPa', 'https://giphy.com/gifs/dram-l1J9u875dGnfINaMw']\n"
     ]
    }
   ],
   "source": [
    "import requests\n",
    "import json\n",
    "\n",
    "def search_gifs(query):\n",
    "    # Giphy API endpoint for searching\n",
    "    url = \"https://api.giphy.com/v1/gifs/search\"\n",
    "\n",
    "    # API key\n",
    "    api_key = \"YOUR-API-HERE\"\n",
    "\n",
    "    # Parameters for the API request\n",
    "    params = {\n",
    "        \"api_key\": api_key,\n",
    "        \"q\": query,\n",
    "        \"limit\": 10\n",
    "    }\n",
    "\n",
    "    # Send the request to Giphy\n",
    "    response = requests.get(url, params=params)\n",
    "    data = json.loads(response.text)\n",
    "\n",
    "    # Extract the URLs of the GIFs from the response\n",
    "    gif_urls = [gif[\"url\"] for gif in data[\"data\"]]\n",
    "\n",
    "    return gif_urls\n",
    "\n",
    "# Example usage\n",
    "query = input(\"Enter a word to search for: \")\n",
    "urls = search_gifs(query)\n",
    "print(urls)\n"
   ]
  },
  {
   "attachments": {},
   "cell_type": "markdown",
   "metadata": {},
   "source": [
    "2. Взяти API-weather, розпарсити і вивезти погоду від користувача(вводить локацію, по цій локації повернеться погода, вологість і тд) https://openweathermap.org *Потрібна реєстрація і створення свого api-ключа"
   ]
  },
  {
   "cell_type": "code",
   "execution_count": null,
   "metadata": {},
   "outputs": [],
   "source": [
    "import requests\n",
    "\n",
    "api_key = \"YOUR-API-HERE\"\n",
    "location = input(\"Enter a location: \")\n",
    "\n",
    "response = requests.get(f\"https://api.openweathermap.org/data/2.5/weather?q={location}&appid={api_key}\")\n",
    "data = response.json()\n",
    "\n",
    "print(\"Weather in \" + location + \": \" + data[\"weather\"][0][\"main\"])\n",
    "print(\"Temperature: \" + str(data[\"main\"][\"temp\"]) + \" Kelvin\")\n",
    "print(\"Humidity: \" + str(data[\"main\"][\"humidity\"]) + \"%\")\n"
   ]
  },
  {
   "attachments": {},
   "cell_type": "markdown",
   "metadata": {},
   "source": [
    "3. Виписати всіх космонавтів(кількість і імена) http://api.open-notify.org/astros.json"
   ]
  },
  {
   "cell_type": "code",
   "execution_count": 2,
   "metadata": {},
   "outputs": [
    {
     "name": "stdout",
     "output_type": "stream",
     "text": [
      "Number of astronauts: 10\n",
      "Name: Sergey Prokopyev\n",
      "Name: Dmitry Petelin\n",
      "Name: Frank Rubio\n",
      "Name: Nicole Mann\n",
      "Name: Josh Cassada\n",
      "Name: Koichi Wakata\n",
      "Name: Anna Kikina\n",
      "Name: Fei Junlong\n",
      "Name: Deng Qingming\n",
      "Name: Zhang Lu\n"
     ]
    }
   ],
   "source": [
    "import requests\n",
    "\n",
    "response = requests.get(\"http://api.open-notify.org/astros.json\")\n",
    "data = response.json()\n",
    "print(\"Number of astronauts:\", data[\"number\"])\n",
    "for astronaut in data[\"people\"]:\n",
    "    print(\"Name:\", astronaut[\"name\"])\n"
   ]
  }
 ],
 "metadata": {
  "kernelspec": {
   "display_name": "Python 3",
   "language": "python",
   "name": "python3"
  },
  "language_info": {
   "codemirror_mode": {
    "name": "ipython",
    "version": 3
   },
   "file_extension": ".py",
   "mimetype": "text/x-python",
   "name": "python",
   "nbconvert_exporter": "python",
   "pygments_lexer": "ipython3",
   "version": "3.10.5"
  },
  "orig_nbformat": 4,
  "vscode": {
   "interpreter": {
    "hash": "26de051ba29f2982a8de78e945f0abaf191376122a1563185a90213a26c5da77"
   }
  }
 },
 "nbformat": 4,
 "nbformat_minor": 2
}
