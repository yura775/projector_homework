{
 "cells": [
  {
   "attachments": {},
   "cell_type": "markdown",
   "metadata": {},
   "source": [
    "1. Write a program that generate 26 text files named A.txt, B.txt, and so on up to Z.txt.\n",
    "\n",
    "To each file append a random number between 1 and 100.\n",
    "\n",
    "Create a summary file (summary.txt) that contains name of the file and number in that file:\n",
    "\n",
    "A.txt: 67\n",
    "\n",
    "B.txt: 12\n",
    "\n",
    "...\n",
    "\n",
    "Z.txt: 98\n",
    "\n",
    "2. Create file with some content. As example you can take this one\n",
    "    Тому що ніколи тебе не вирвеш,\n",
    "    ніколи не забереш,\n",
    "    тому що вся твоя свобода\n",
    "    складається з меж,\n",
    "    тому що в тебе немає\n",
    "    жодного вантажу,\n",
    "    тому що ти ніколи не слухаєш,\n",
    "    оскільки знаєш і так,\n",
    "    що я скажу,\n",
    "Create second file and copy content of the first file to the second file in upper case."
   ]
  },
  {
   "cell_type": "code",
   "execution_count": null,
   "metadata": {},
   "outputs": [],
   "source": [
    "import random\n",
    "\n",
    "#Write a program that generate 26 text files named A.txt, B.txt, and so on up to Z.txt.\n",
    "for letter in 'ABCDEFGHIJKLMNOPQRSTUVWXYZ':\n",
    "    with open(letter + '.txt', 'w') as f:\n",
    "        f.write(str(random.randint(1, 100)))\n",
    "\n",
    "#Create a summary file (summary.txt) that contains name of the file and number in that file:\n",
    "with open('summary.txt', 'w') as summary:\n",
    "    for letter in 'ABCDEFGHIJKLMNOPQRSTUVWXYZ':\n",
    "        with open(letter + '.txt', 'r') as f:\n",
    "            number = f.read()\n",
    "            summary.write(letter + '.txt: ' + number + '\\n')"
   ]
  },
  {
   "cell_type": "code",
   "execution_count": null,
   "metadata": {},
   "outputs": [],
   "source": [
    "# Create file1.txt with content\n",
    "with open(\"file1.txt\", \"w\") as f:\n",
    "    f.write(\"Тому що ніколи тебе не вирвеш,\\nніколи не забереш,\\nтому що вся твоя свобода\\nскладається з меж,\\nтому що в тебе немає\\nжодного вантажу,\\nтому що ти ніколи не слухаєш,\\nоскільки знаєш і так,\\nщо я скажу\")\n",
    "\n",
    "# Create second file and copy content of the first file to the second file in upper case.\n",
    "with open(\"file1.txt\", \"r\") as f1, open(\"file2.txt\", \"w\") as f2:\n",
    "    f2.write(f1.read().upper())\n"
   ]
  },
  {
   "attachments": {},
   "cell_type": "markdown",
   "metadata": {},
   "source": [
    "Write a program that will simulate user score in a game. Create a list with 5 player's names. After that simulate 100 games for each player. As a result of the game create a list with player's name and his score (0-1000 range). And save it to a CSV file. File should looks like this:\n",
    "\n",
    "Player name, Score\n",
    "Josh, 56\n",
    "Luke, 784\n",
    "Kate, 90\n",
    "Mark, 125\n",
    "Mary, 877\n",
    "Josh, 345\n",
    "...\n",
    "Write a script that reads the data from previous CSV file and creates a new file called high_scores.csv where each row contains the player name and their highest score. Final score should sorted by descending of highest score\n",
    "\n",
    "The output CSV file should look like this:\n",
    "\n",
    "Player name, Highest score\n",
    "Kate, 907\n",
    "Mary, 897\n",
    "Luke, 784\n",
    "Mark, 725\n",
    "Josh, 345"
   ]
  },
  {
   "cell_type": "code",
   "execution_count": null,
   "metadata": {},
   "outputs": [],
   "source": [
    "#Write a program that will simulate user score in a game. Create a list with 5 player's names. After that simulate 100 games for each player. As a result of the game create a list with player's name and his score (0-1000 range). And save it to a CSV file.\n",
    "import csv\n",
    "import random\n",
    "\n",
    "# Create list of player names\n",
    "players = [\"Josh\", \"Luke\", \"Kate\", \"Mark\", \"Mary\"]\n",
    "\n",
    "# Initialize empty list to store results\n",
    "results = []\n",
    "\n",
    "# Simulate 100 games for each player\n",
    "for player in players:\n",
    "    for i in range(100):\n",
    "        score = random.randint(0, 1000)\n",
    "        results.append([player, score])\n",
    "\n",
    "# Write results to CSV file\n",
    "with open(\"results.csv\", \"w\", newline='') as f:\n",
    "    writer = csv.writer(f)\n",
    "    writer.writerow([\"Player name\", \"Score\"])\n",
    "    writer.writerows(results)\n"
   ]
  },
  {
   "cell_type": "code",
   "execution_count": null,
   "metadata": {},
   "outputs": [],
   "source": [
    "#Write a script that reads the data from previous CSV file and creates a new file called high_scores.csv where each row contains the player name and their highest score. Final score should sorted by descending of highest score\n",
    "\n",
    "import csv\n",
    "from collections import defaultdict\n",
    "\n",
    "high_scores = defaultdict(int)\n",
    "\n",
    "# Read data from results.csv\n",
    "with open(\"results.csv\", \"r\") as f:\n",
    "    reader = csv.reader(f)\n",
    "    next(reader) # Skip the header row\n",
    "    for row in reader:\n",
    "        player, score = row\n",
    "        high_scores[player] = max(high_scores[player], int(score))\n",
    "\n",
    "# Write high scores to high_scores.csv\n",
    "with open(\"high_scores.csv\", \"w\", newline='') as f:\n",
    "    writer = csv.writer(f)\n",
    "    writer.writerow([\"Player name\", \"High Score\"])\n",
    "    for player, score in sorted(high_scores.items(), key=lambda x: x[1], reverse=True):\n",
    "        writer.writerow([player, score])\n"
   ]
  }
 ],
 "metadata": {
  "kernelspec": {
   "display_name": "Python 3",
   "language": "python",
   "name": "python3"
  },
  "language_info": {
   "name": "python",
   "version": "3.10.5 (tags/v3.10.5:f377153, Jun  6 2022, 16:14:13) [MSC v.1929 64 bit (AMD64)]"
  },
  "orig_nbformat": 4,
  "vscode": {
   "interpreter": {
    "hash": "26de051ba29f2982a8de78e945f0abaf191376122a1563185a90213a26c5da77"
   }
  }
 },
 "nbformat": 4,
 "nbformat_minor": 2
}
