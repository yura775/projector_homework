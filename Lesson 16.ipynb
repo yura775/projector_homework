{
 "cells": [
  {
   "attachments": {},
   "cell_type": "markdown",
   "metadata": {},
   "source": [
    "1. Write a Python class named Circle constructed by a radius and two methods which will compute the area and the perimeter of a circle."
   ]
  },
  {
   "cell_type": "code",
   "execution_count": 1,
   "metadata": {},
   "outputs": [
    {
     "name": "stdout",
     "output_type": "stream",
     "text": [
      "Area of circle with radius 5 is 78.53981633974483\n",
      "Perimeter of circle with radius 5 is 31.41592653589793\n"
     ]
    }
   ],
   "source": [
    "import math\n",
    "\n",
    "class Circle:\n",
    "    def __init__(self, radius: float):\n",
    "        self.radius = radius\n",
    "\n",
    "    def area(self) -> float:\n",
    "        return math.pi * (self.radius ** 2)\n",
    "\n",
    "    def perimeter(self) -> float:\n",
    "        return 2 * math.pi * self.radius\n",
    "\n",
    "# Test the class\n",
    "c = Circle(5)\n",
    "print(f\"Area of circle with radius {c.radius} is {c.area()}\")\n",
    "print(f\"Perimeter of circle with radius {c.radius} is {c.perimeter()}\")\n"
   ]
  },
  {
   "attachments": {},
   "cell_type": "markdown",
   "metadata": {},
   "source": [
    "2. Write a Python program to crate two empty classes, Student and Marks. Now create some instances and check whether they are instances of the said classes or not. Also, check whether the said classes are subclasses of the built-in object class or not."
   ]
  },
  {
   "cell_type": "code",
   "execution_count": 2,
   "metadata": {},
   "outputs": [
    {
     "name": "stdout",
     "output_type": "stream",
     "text": [
      "Is student1 an instance of Student class: True\n",
      "Is marks1 an instance of Marks class: True\n",
      "Is Student a subclass of object: True\n",
      "Is Marks a subclass of object: True\n"
     ]
    }
   ],
   "source": [
    "class Student:\n",
    "    pass\n",
    "\n",
    "class Marks:\n",
    "    pass\n",
    "\n",
    "# Create instances of classes\n",
    "student1 = Student()\n",
    "marks1 = Marks()\n",
    "\n",
    "# Check if instances are of the said classes\n",
    "print(f\"Is student1 an instance of Student class: {isinstance(student1, Student)}\")\n",
    "print(f\"Is marks1 an instance of Marks class: {isinstance(marks1, Marks)}\")\n",
    "\n",
    "# Check if classes are subclasses of object\n",
    "print(f\"Is Student a subclass of object: {issubclass(Student, object)}\")\n",
    "print(f\"Is Marks a subclass of object: {issubclass(Marks, object)}\")\n"
   ]
  },
  {
   "attachments": {},
   "cell_type": "markdown",
   "metadata": {},
   "source": [
    "A Bank\n",
    "\n",
    "Using the Account class as a base class, write two derived classes called SavingsAccount and CurrentAccount. A SavingsAccount object, in addition to the attributes of an Account object, should have an interest attribute and a method which adds interest to the account. A CurrentAccount object, in addition to the attributes of an Account object, should have an overdraft limit attribute.\n",
    "\n",
    "Now create a Bank class, an object of which contains an array of Account objects. Accounts in the array could be instances of the Account class, the SavingsAccount class, or the CurrentAccount class. Create some test accounts (some of each type).\n",
    "\n",
    "Write an update method in the Bank class. It iterates through each account, updating it in the following ways: Savings accounts get interest added (via the method you already wrote); CurrentAccounts get a letter sent if they are in overdraft. (use print to 'send' the letter).\n",
    "\n",
    "The Bank class requires methods for opening and closing accounts, and for paying a dividend into each account."
   ]
  },
  {
   "cell_type": "code",
   "execution_count": 1,
   "metadata": {},
   "outputs": [],
   "source": [
    "#Using the Account class as a base class, write two derived classes called SavingsAccount and CurrentAccount. A SavingsAccount object, in addition to the attributes of an Account object, should have an interest attribute and a method which adds interest to the account. A CurrentAccount object, in addition to the attributes of an Account object, should have an overdraft limit attribute.\n",
    "class Account:\n",
    "    def __init__(self, name: str, balance: float):\n",
    "        self.name = name\n",
    "        self.balance = balance\n",
    "        \n",
    "    def __str__(self):\n",
    "        return f\"{self.name}'s account. Balance: {self.balance}\"\n",
    "\n",
    "class SavingsAccount(Account):\n",
    "    def __init__(self, name: str, balance: float, interest: float):\n",
    "        super().__init__(name, balance)\n",
    "        self.interest = interest\n",
    "        \n",
    "    def add_interest(self):\n",
    "        self.balance += self.balance * self.interest\n",
    "        \n",
    "    def __str__(self):\n",
    "        return f\"{self.name}'s savings account. Balance: {self.balance}, Interest: {self.interest}\"\n",
    "\n",
    "class CurrentAccount(Account):\n",
    "    def __init__(self, name: str, balance: float, overdraft_limit: float):\n",
    "        super().__init__(name, balance)\n",
    "        self.overdraft_limit = overdraft_limit\n",
    "        \n",
    "    def __str__(self):\n",
    "        return f\"{self.name}'s current account. Balance: {self.balance}, Overdraft Limit: {self.overdraft_limit}\"\n",
    "\n",
    "class Bank:\n",
    "    def __init__(self):\n",
    "        self.accounts = []\n",
    "        \n",
    "    def add_account(self, account):\n",
    "        self.accounts.append(account)\n",
    "        \n",
    "    def withdraw_from_account(self, account_name, amount):\n",
    "        for account in self.accounts:\n",
    "            if account.name == account_name:\n",
    "                account.withdraw(amount)\n",
    "                return\n",
    "        print(f\"No account found with name {account_name}\")\n",
    "        \n",
    "    def deposit_to_account(self, account_name, amount):\n",
    "        for account in self.accounts:\n",
    "            if account.name == account_name:\n",
    "                account.deposit(amount)\n",
    "                return\n",
    "        print(f\"No account found with name {account_name}\")\n",
    "    \n",
    "    def update(self):\n",
    "        for account in self.accounts:\n",
    "            if isinstance(account, SavingsAccount):\n",
    "                account.add_interest()\n",
    "            if isinstance(account, CurrentAccount):\n",
    "                if account.balance < 0:\n",
    "                    print(f\"Sending overdraft letter to {account.name}\")\n",
    "                    \n",
    "    def open_account(self, name, account_type, *args):\n",
    "        if account_type == 'savings':\n",
    "            account = SavingsAccount(name, *args)\n",
    "        elif account_type == 'current':\n",
    "            account = CurrentAccount(name, *args)\n",
    "        else:\n",
    "            print(f\"Invalid account type {account_type}\")\n",
    "            return\n",
    "        self.add_account(account)\n",
    "        \n",
    "    def close_account(self, account_name):\n",
    "        for i, account in enumerate(self.accounts):\n",
    "            if account.name == account_name:\n",
    "                self.accounts.pop(i)\n",
    "                return\n",
    "        print(f\"No account found with name {account_name}\")\n",
    "        \n",
    "    def pay_dividend(self, amount):\n",
    "        for account in self.accounts:\n",
    "            account.deposit(amount)\n",
    "\n",
    "# Create a test bank\n",
    "bank = Bank()\n",
    "\n",
    "# Open some test accounts\n",
    "bank.open_account(\"John Smith\", \"savings\", 1000, 2)\n",
    "bank.open_account(\"Jane Doe\", \"current\", 500, 1000)\n",
    "\n",
    "\n",
    "\n"
   ]
  }
 ],
 "metadata": {
  "kernelspec": {
   "display_name": "Python 3",
   "language": "python",
   "name": "python3"
  },
  "language_info": {
   "codemirror_mode": {
    "name": "ipython",
    "version": 3
   },
   "file_extension": ".py",
   "mimetype": "text/x-python",
   "name": "python",
   "nbconvert_exporter": "python",
   "pygments_lexer": "ipython3",
   "version": "3.10.5 (tags/v3.10.5:f377153, Jun  6 2022, 16:14:13) [MSC v.1929 64 bit (AMD64)]"
  },
  "orig_nbformat": 4,
  "vscode": {
   "interpreter": {
    "hash": "26de051ba29f2982a8de78e945f0abaf191376122a1563185a90213a26c5da77"
   }
  }
 },
 "nbformat": 4,
 "nbformat_minor": 2
}
