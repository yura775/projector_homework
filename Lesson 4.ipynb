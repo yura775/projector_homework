{
 "cells": [
  {
   "cell_type": "code",
   "execution_count": null,
   "metadata": {},
   "outputs": [],
   "source": [
    "\"\"\"\"\"\n",
    "Practice section 1\n",
    "Figure out the result of the following expressions:\n",
    "a) (1 <= 1) and (1 != 1) - False\n",
    "b) not (1 != 2) - True\n",
    "c) (\"good\" != \"bad\") or False - False\n",
    "d) (\"good\" != \"Good\") and not (1 == 1) - False\n",
    "Make all of them True by adding parentheses:\n",
    "a) False == (not True)\n",
    "b) (True and False) == (True and False)\n",
    "c) (not True) and (\"A\" == \"B\")\n",
    "\"\"\"\"\""
   ]
  },
  {
   "cell_type": "code",
   "execution_count": 2,
   "metadata": {},
   "outputs": [
    {
     "name": "stdout",
     "output_type": "stream",
     "text": [
      "Season is winter\n"
     ]
    }
   ],
   "source": [
    "\"\"\"\"\"\n",
    "Write a Python program that reads two integers representing a month and prints the season for that month. Get month from the user input.\n",
    "Expected Output:\n",
    "Input the month: october\n",
    "Season is autumn\n",
    "\"\"\"\"\"\n",
    "\n",
    "month= input(\"Enter the month \")\n",
    "\n",
    "match month.lower():\n",
    "    case 'december' | 'january' | 'february':\n",
    "        print('Season is winter')\n",
    "    case 'march' | 'april' | 'may':\n",
    "        print('Season is spring')\n",
    "    case 'june' | 'july' | 'august':\n",
    "        print('Season is summer')\n",
    "    case 'september' | 'october' | 'november':\n",
    "        print('Season is fall')\n",
    "    case _ :\n",
    "        print('Try again!')"
   ]
  },
  {
   "cell_type": "code",
   "execution_count": null,
   "metadata": {},
   "outputs": [],
   "source": [
    "\"\"\"\"\"\n",
    "2. Write a Python program to get next day of a given date. Get day, month and year from the user input.\n",
    "Expected Output:\n",
    "**Input a year:** 2022                                                     \n",
    "**Input a month [1-12]:** 8                                               \n",
    "**Input a day [1-31]:** 23                                           \n",
    "The next date is [yyyy-mm-dd] 2022-8-24\n",
    "\"\"\"\"\"\n",
    "month_length = 0\n",
    "year= int(input('Enter the year '))\n",
    "if (year % 400 == 0):\n",
    "    leap_year = True\n",
    "elif (year % 100 == 0):\n",
    "    leap_year = False\n",
    "elif (year % 4 == 0):\n",
    "    leap_year = True\n",
    "else:\n",
    "    leap_year = False\n",
    "\n",
    "month = int(input('Enter the month '))\n",
    "try:\n",
    "    if month > 12:\n",
    "        print('There are no such month. Please restart the program.')\n",
    "        month = int(input('Enter the month '))\n",
    "\n",
    "    elif month in (1, 3, 5, 7, 8, 10, 12):\n",
    "        month_length = 31\n",
    "    elif month == 2:\n",
    "        if leap_year:\n",
    "            month_length = 29\n",
    "        else:\n",
    "            month_length = 28\n",
    "    elif month in (2, 4, 6, 9, 11):\n",
    "        month_length = 30\n",
    "except:\n",
    "    print('something went wrong. Please restart the program')\n",
    "\n",
    "day = int(input('Enter the day '))\n",
    "try:\n",
    "    if day > 31:\n",
    "        print('There are no such date. Please restart the program')\n",
    "\n",
    "    elif day < month_length:\n",
    "        day += 1\n",
    "    else:\n",
    "        day = 1\n",
    "        if month == 12:\n",
    "            month = 1\n",
    "            year += 1\n",
    "        else:\n",
    "            month += 1\n",
    "except:\n",
    "        print('something went wrong. Try again later')\n",
    "\n",
    "print(f\"The next date is {day}.{month}.{year}\")"
   ]
  },
  {
   "cell_type": "code",
   "execution_count": null,
   "metadata": {},
   "outputs": [],
   "source": [
    "\"\"\"\"\"\n",
    "3. Get a phrase from user input. Display whether the lenght of the string if longer than 5 characters, equal to 5 characters or shorter than 5 characters. Use if, elif, else for this.\n",
    "\"\"\"\"\"\n",
    "\n",
    "str = input('Enter a phrase ')\n",
    "if len(str) > 5:\n",
    "    print('The phrase have more than 5 characters')\n",
    "elif len(str) == 5:\n",
    "    print('The phrase has 5 characters')\n",
    "else:\n",
    "    print('The phrase have less than 5 characters')"
   ]
  },
  {
   "cell_type": "code",
   "execution_count": null,
   "metadata": {},
   "outputs": [],
   "source": [
    "\"\"\"\"\"\n",
    "Get a positive number from user input. Find all factors of this number.\n",
    "Example:\n",
    "If the number is 6, the factors are: 1, 2, 3, 6\n",
    "If the number is 10, the factors are: 1, 2, 5, 10\n",
    "\"\"\"\"\"\n",
    "num = int(input('Введіть число '))\n",
    "factors = ''\n",
    "for i in range(1, num+1):\n",
    "    if num % i == 0:\n",
    "        factors = factors +f'{i}, '\n",
    "print(f'If the number is {num}, the factors are: {factors}')"
   ]
  },
  {
   "cell_type": "code",
   "execution_count": null,
   "metadata": {},
   "outputs": [],
   "source": [
    "\"\"\"\"\"\n",
    "5. Write a Python program to check a triangle is equilateral, isosceles or scalene. Get all three sides from user input.\n",
    "Note :\n",
    "An equilateral triangle is a triangle in which all three sides are equal.\n",
    "A scalene triangle is a triangle that has three unequal sides.\n",
    "An isosceles triangle is a triangle with (at least) two equal sides.\n",
    "\"\"\"\"\"\n",
    "\n",
    "x, y, z = int(input('Enter first side ')), int(input('Enter second side ')), int(input('Enter third side '))\n",
    "\n",
    "if x == y == z:\n",
    "    print('The triangle is equilateral')\n",
    "elif x != y != z:\n",
    "    print('The triangle is scalene')\n",
    "else:\n",
    "    print('The triangle is isosceles')\n"
   ]
  },
  {
   "cell_type": "code",
   "execution_count": null,
   "metadata": {},
   "outputs": [],
   "source": [
    "\"\"\"\"\"\n",
    "3.1 Write a for loop that prints out the integers from 2 to 10, each on a new line, by using the range() function.\n",
    "\"\"\"\"\"\n",
    "\n",
    "for i in range (2, 11):\n",
    "    print(i)"
   ]
  },
  {
   "cell_type": "code",
   "execution_count": null,
   "metadata": {},
   "outputs": [],
   "source": [
    "\"\"\"\"\"\n",
    "Use a while loop that prints out the integers from 2 to 10\n",
    "\"\"\"\"\"\n",
    "\n",
    "i = 2\n",
    "\n",
    "while i <= 10:\n",
    "    print(i)\n",
    "    i+=1"
   ]
  },
  {
   "cell_type": "code",
   "execution_count": null,
   "metadata": {},
   "outputs": [],
   "source": [
    "\"\"\"\"\"\n",
    "Write a program that takes number as its input and doubles that number few times in a loop. Number of iterations and initial number should be taken from user input. You should display each result on a separate line. Here is some sample output:\n",
    "Input:\n",
    "initial number: 2\n",
    "number of iterations: 5\n",
    "Output:\n",
    "4\n",
    "8\n",
    "16\n",
    "32\n",
    "64\n",
    "\"\"\"\"\"\n",
    "\n",
    "a, b = int(input('Enter first digit ')), int(input('Enter second digit '))\n",
    "for i in range(b):\n",
    "    a=a*2\n",
    "    print(a)"
   ]
  },
  {
   "cell_type": "code",
   "execution_count": null,
   "metadata": {},
   "outputs": [],
   "source": [
    "\"\"\"\"\"\n",
    "Write a program that caluculate Fibonacci series. The Fibonacci series is a series of numbers in which each number is the sum of the two preceding numbers. The first two numbers are 1 and 1. The third number is 1 + 1 = 2, the fourth number is 1 + 2 = 3, and so on. Number of iterations should be taken from user input.\n",
    "\"\"\"\"\"\n",
    "\n",
    "num= int(input('Enter the number of eterations '))\n",
    "n1, n2 = 1, 1\n",
    "count = 0\n",
    "sequence = \"\"\n",
    "if num <= 0:\n",
    "   print(\"wrong number of eterations\")\n",
    "\n",
    "elif num == 1:\n",
    "   print(n1)\n",
    "# generate fibonacci sequence\n",
    "else:\n",
    "   while count < num:\n",
    "       sequence = sequence +f'{n1}, '\n",
    "       nth = n1 + n2\n",
    "       n1 = n2\n",
    "       n2 = nth\n",
    "       count += 1\n",
    "print(sequence)"
   ]
  },
  {
   "cell_type": "code",
   "execution_count": null,
   "metadata": {},
   "outputs": [],
   "source": [
    "\"\"\"\"\"\n",
    "Write a program that takes a number as input and revert it using math operators. You might use result of the exercise from the first lesson. Here you should be able to do it not only for three-digit numbers, but for any numbers.\n",
    "\"\"\"\"\"\n",
    "\n",
    "num = int(input(\"Enter the number \"))\n",
    "reversed = 0\n",
    "while (num > 0):\n",
    "    remainder = num % 10\n",
    "    reversed = (reversed * 10) + remainder\n",
    "    num = num // 10\n",
    "\n",
    "print(f\"The reverse number is {reversed}\")"
   ]
  },
  {
   "cell_type": "code",
   "execution_count": null,
   "metadata": {},
   "outputs": [],
   "source": [
    "\"\"\"\"\"\n",
    "Write a program that always asks user to input somethings. Quit only if user inputs 'q' or 'Q'.\n",
    "\"\"\"\"\"\n",
    "\n",
    "while True:\n",
    "    smth=input('Print something ')\n",
    "    if smth.lower() == 'q':\n",
    "        break\n",
    "    else:\n",
    "        True\n"
   ]
  },
  {
   "cell_type": "code",
   "execution_count": null,
   "metadata": {},
   "outputs": [],
   "source": [
    "\"\"\"\"\"\n",
    "Write a program that iterated from 0 to 100 and prints out the number if it is divisible by 3.\n",
    "\"\"\"\"\"\n",
    "\n",
    "for i in range(0,100):\n",
    "    if i % 3 == 0:\n",
    "        print(i)\n",
    "    else:\n",
    "        continue"
   ]
  },
  {
   "cell_type": "code",
   "execution_count": null,
   "metadata": {},
   "outputs": [],
   "source": [
    "\"\"\"\"\"\n",
    "Get a number from user input and iterate from 0 to that number.\n",
    "Print 'foo' if the number is divisible by 3.\n",
    "Print 'bar' if the number is divisible by 5.\n",
    "Print 'foobar' if the number is divisible by both 3 and 5.\n",
    "\"\"\"\"\"\n",
    "for i in range(int(input('Enter the number '))):\n",
    "    if i % 3 and i % 5 == 0:\n",
    "        print('foobar')\n",
    "    elif i % 3 == 0:\n",
    "        print('foo')\n",
    "    elif i % 5 == 0:\n",
    "        print('bar')\n",
    "    else:\n",
    "        print(i)"
   ]
  }
 ],
 "metadata": {
  "kernelspec": {
   "display_name": "Python 3",
   "language": "python",
   "name": "python3"
  },
  "language_info": {
   "codemirror_mode": {
    "name": "ipython",
    "version": 3
   },
   "file_extension": ".py",
   "mimetype": "text/x-python",
   "name": "python",
   "nbconvert_exporter": "python",
   "pygments_lexer": "ipython3",
   "version": "3.10.5"
  },
  "orig_nbformat": 4,
  "vscode": {
   "interpreter": {
    "hash": "26de051ba29f2982a8de78e945f0abaf191376122a1563185a90213a26c5da77"
   }
  }
 },
 "nbformat": 4,
 "nbformat_minor": 2
}
