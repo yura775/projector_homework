{
 "cells": [
  {
   "attachments": {},
   "cell_type": "markdown",
   "metadata": {},
   "source": [
    "Practice section 1:\n",
    "Write a program that caluculate Fibonacci series. The Fibonacci series is a series of numbers in which each number is the sum of the two preceding numbers. The first two numbers are 1 and 1. The third number is 1 + 1 = 2, the fourth number is 1 + 2 = 3, and so on. Number of iterations should be taken from user input."
   ]
  },
  {
   "cell_type": "code",
   "execution_count": null,
   "metadata": {},
   "outputs": [],
   "source": [
    "def Fibonacci(n): \n",
    "    if n<=0: \n",
    "        print(\"З нулем не спрацює\") \n",
    "    elif n==1: \n",
    "        return 0\n",
    "    elif n==2: \n",
    "        return 1\n",
    "    else: \n",
    "        return Fibonacci(n-1)+Fibonacci(n-2)\n",
    "\n",
    "num_iterations = int(input(\"Введіть кільість ітерацій: \"))\n",
    "\n",
    "for i in range(2, num_iterations+1):\n",
    "    print(Fibonacci(i))"
   ]
  },
  {
   "attachments": {},
   "cell_type": "markdown",
   "metadata": {},
   "source": [
    "Practice section 2"
   ]
  },
  {
   "cell_type": "code",
   "execution_count": null,
   "metadata": {},
   "outputs": [],
   "source": [
    "#2.1 Write a program that iterated from 0 to 100 and prints out the number if it is divisible by 3.\n",
    "for i in range(101):\n",
    "    if i % 3 == 0:\n",
    "        print(i)"
   ]
  },
  {
   "cell_type": "code",
   "execution_count": null,
   "metadata": {},
   "outputs": [],
   "source": [
    "\"\"\"\"\"\n",
    "#2.2 Get a number from user input and iterate from 0 to that number.\n",
    "Print 'foo' if the number is divisible by 3.\n",
    "Print 'bar' if the number is divisible by 5.\n",
    "Print 'foobar' if the number is divisible by both 3 and 5.\n",
    "\"\"\"\"\"\n",
    "num = int(input(\"Enter a number: \"))\n",
    "for i in range(num+1):\n",
    "    if i % 3 == 0 and i % 5 == 0:\n",
    "        print('foobar')\n",
    "    elif i % 3 == 0:\n",
    "        print('foo')\n",
    "    elif i % 5 == 0:\n",
    "        print('bar')\n",
    "    else:\n",
    "        pass"
   ]
  },
  {
   "attachments": {},
   "cell_type": "markdown",
   "metadata": {},
   "source": [
    "Practice block 3:"
   ]
  },
  {
   "cell_type": "code",
   "execution_count": null,
   "metadata": {},
   "outputs": [],
   "source": [
    "# 3.1 Write a function called square() with one argument of int type and returns the value of that number raised to the second power.\n",
    "\n",
    "def square(num):\n",
    "    return num**2\n",
    "\n",
    "print (square(5))"
   ]
  },
  {
   "cell_type": "code",
   "execution_count": null,
   "metadata": {},
   "outputs": [],
   "source": [
    "#3.2 Write a program called convert_cel_to_fahr() that takes a temperature in Celsius and returns the equivalent temperature in Fahrenheit. It should take a number as an argument from user input and return a number to the console.\n",
    "\n",
    "def convert_cel_to_fahr(temp_in_celsius):\n",
    "    temp_in_fahrenheit = (temp_in_celsius * 9/5) + 32\n",
    "    return temp_in_fahrenheit\n",
    "\n",
    "temp_in_celsius = float(input(\"Enter temperature in Celsius: \"))\n",
    "temp_in_fahrenheit = convert_cel_to_fahr(temp_in_celsius)\n",
    "print(\"Temperature in Fahrenheit:\", temp_in_fahrenheit)"
   ]
  },
  {
   "cell_type": "code",
   "execution_count": null,
   "metadata": {},
   "outputs": [],
   "source": [
    "#3.3 Write a function that implement case swapping. It should return the same result as swapcase() method. Your function should accept one str argument and convert all lower case values to upper case and vice versa.\n",
    "\n",
    "def swap_case(string):\n",
    "    new_string = \"\"\n",
    "    for char in string:\n",
    "        if char.isupper():\n",
    "            new_string += char.lower()\n",
    "        else:\n",
    "            new_string += char.upper()\n",
    "    return new_string\n",
    "\n",
    "print(swap_case('HelLo'))"
   ]
  }
 ],
 "metadata": {
  "kernelspec": {
   "display_name": "Python 3",
   "language": "python",
   "name": "python3"
  },
  "language_info": {
   "codemirror_mode": {
    "name": "ipython",
    "version": 3
   },
   "file_extension": ".py",
   "mimetype": "text/x-python",
   "name": "python",
   "nbconvert_exporter": "python",
   "pygments_lexer": "ipython3",
   "version": "3.10.5"
  },
  "orig_nbformat": 4,
  "vscode": {
   "interpreter": {
    "hash": "26de051ba29f2982a8de78e945f0abaf191376122a1563185a90213a26c5da77"
   }
  }
 },
 "nbformat": 4,
 "nbformat_minor": 2
}
