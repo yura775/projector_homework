{
 "cells": [
  {
   "attachments": {},
   "cell_type": "markdown",
   "metadata": {},
   "source": [
    "Practice block 1:\n",
    "1) Create an outer function that will accept two parameters, a and b\n",
    "2) Create an inner function inside an outer function that will calculate the addition of a and b\n",
    "3) At last, an outer function will add 5 into addition and return it"
   ]
  },
  {
   "cell_type": "code",
   "execution_count": null,
   "metadata": {},
   "outputs": [],
   "source": [
    "def outer_function(a, b):\n",
    "    def inner_function():\n",
    "        return a + b\n",
    "    return inner_function() + 5\n",
    "\n",
    "\n",
    "print(outer_function(3, 4))"
   ]
  },
  {
   "attachments": {},
   "cell_type": "markdown",
   "metadata": {},
   "source": [
    "Practice block 2:\n",
    "\n",
    "1) Write a program that asks user to enter an integer and convert it to int. If the user enters something that is not an integer, program should catch an error and ask the user to enter an integer again. if user inputs an integer, program should print this number and quit w/o any error.\n",
    "\n",
    "2) Write a program that asks the user to input a string and an integer n. Then display the character at index n in the string. You should handle an error properly and display proper error message."
   ]
  },
  {
   "cell_type": "code",
   "execution_count": null,
   "metadata": {},
   "outputs": [],
   "source": [
    "#1 \n",
    "while True:\n",
    "    try:\n",
    "        number = int(input(\"Enter an integer: \"))\n",
    "        break\n",
    "    except ValueError:\n",
    "        print(\"Invalid input. Please enter an integer again.\")\n",
    "\n",
    "print(\"You entered:\", number)"
   ]
  },
  {
   "cell_type": "code",
   "execution_count": null,
   "metadata": {},
   "outputs": [],
   "source": [
    "#2\n",
    "while True:\n",
    "    try:\n",
    "        user_string = input(\"Enter a string: \")\n",
    "        index = int(input(\"Enter an integer: \"))\n",
    "        print(f\"The character at index {index} is: {user_string[index]}\")\n",
    "        break\n",
    "    except ValueError:\n",
    "        print(\"Invalid input. Please enter an integer.\")\n",
    "    except IndexError:\n",
    "        print(\"Index out of range. Please enter a valid index.\")"
   ]
  },
  {
   "attachments": {},
   "cell_type": "markdown",
   "metadata": {},
   "source": [
    "Practice block 3:\n",
    "1) Write a function that simulate a dice roll and returns the result from 1 to 6.\n",
    "\n",
    "2) Write a function that simulate 10_000 rolls and returns the number of times that the dice roll for each value\n",
    "\n",
    "3) Simulate an election for two candidates. Program should take amount of regions and rating for 1st candidate in each region (in percentage). Program should run election in every region. In every region, program should ask 10 000 voters. Candidate count as a winner if he gains more than 50% of all votes. Program should print the result of the election for each region and the winner\n",
    "\n",
    "Example:\n",
    "Enter number of regions: 2\n",
    "Enter rating for 1st candidate in each region: 34, 56\n",
    "Region 1: 3456 votes for 1st candidate, 6544 votes for 2nd candidate\n",
    "Region 2: 5623 votes for 1st candidate, 4356 votes for 2nd candidate\n",
    "Result: 2nd candidate won with 10900 votes and 54.5% of all votes"
   ]
  },
  {
   "cell_type": "code",
   "execution_count": 18,
   "metadata": {},
   "outputs": [
    {
     "name": "stdout",
     "output_type": "stream",
     "text": [
      "{1: 1668, 2: 1628, 3: 1706, 4: 1674, 5: 1671, 6: 1653}\n"
     ]
    }
   ],
   "source": [
    "#1 and #2\n",
    "import random\n",
    "\n",
    "def roll_dice():\n",
    "    return random.randint(1, 6)\n",
    "\n",
    "def roll_dice_10k_times():\n",
    "    results = {1: 0, 2: 0, 3: 0, 4: 0, 5: 0, 6: 0}\n",
    "    for i in range(10000):\n",
    "        roll = roll_dice()\n",
    "        results[roll] += 1\n",
    "    return results\n",
    "\n",
    "print(roll_dice_10k_times())"
   ]
  },
  {
   "cell_type": "code",
   "execution_count": null,
   "metadata": {},
   "outputs": [],
   "source": [
    "#3\n",
    "\n",
    "import random\n",
    "\n",
    "def run_election(regions, rating1):\n",
    "    first_candidate_votes = 0\n",
    "    second_candidate_votes = 0\n",
    "    for i in range(regions):\n",
    "        first_candidate_votes_in_region = 0\n",
    "        second_candidate_votes_in_region = 0\n",
    "        for j in range(10000):\n",
    "            if random.randint(1, 100) <= rating1:\n",
    "                first_candidate_votes_in_region += 1\n",
    "            else:\n",
    "                second_candidate_votes_in_region += 1\n",
    "        first_candidate_votes += first_candidate_votes_in_region\n",
    "        second_candidate_votes += second_candidate_votes_in_region\n",
    "        print(f\"Region {i+1}: {first_candidate_votes_in_region} votes for 1st candidate, {second_candidate_votes_in_region} votes for 2nd candidate\")\n",
    "    \n",
    "    total_votes = first_candidate_votes + second_candidate_votes\n",
    "    first_candidate_percentage = (first_candidate_votes / total_votes) * 100\n",
    "    second_candidate_percentage = (second_candidate_votes / total_votes) * 100\n",
    "    if first_candidate_percentage > 50:\n",
    "        print(f\"Result: 1st candidate won with {first_candidate_votes} votes and {first_candidate_percentage}% of all votes\")\n",
    "    else:\n",
    "        print(f\"Result: 2nd candidate won with {second_candidate_votes} votes and {second_candidate_percentage}% of all votes\")\n",
    "\n",
    "regions = int(input(\"Enter number of regions: \"))\n",
    "rating1 = int(input(\"Enter rating for 1st candidate in each region (in percentage): \"))\n",
    "run_election(regions, rating1)\n"
   ]
  },
  {
   "attachments": {},
   "cell_type": "markdown",
   "metadata": {},
   "source": [
    "\n",
    "Practice block 4\n",
    "1) Create a tuple with your first name, last name, and age.\n",
    "2) Print your last name using indexing.\n",
    "3) Create three variables in one line that extracted from tuple that you created in step 1.\n",
    "4) Print your name letter by letter from this tuple\n",
    "5) Create a new tuple that contains all info from the first tuple but remove first letter from all strings\n",
    "6) Create a tuple with two values. First one is (1, 2), second one is (3, 4).\n",
    "7) Create a program that calculates the sum of all values in the tuple and print it to the console."
   ]
  },
  {
   "cell_type": "code",
   "execution_count": null,
   "metadata": {},
   "outputs": [],
   "source": [
    "#1\n",
    "personal_info = (\"Yurii\", \"Manilov\", 29)\n",
    "#2\n",
    "print(personal_info[1])\n",
    "#3\n",
    "first_name, last_name, age = personal_info\n",
    "#4\n",
    "for letter in first_name:\n",
    "    print(letter)\n",
    "#5\n",
    "new_tuple = ()\n",
    "for i in personal_info:\n",
    "    i = str(i)\n",
    "    new_tuple = new_tuple + (i[1:],)\n",
    "print (new_tuple)\n"
   ]
  },
  {
   "cell_type": "code",
   "execution_count": 57,
   "metadata": {},
   "outputs": [
    {
     "name": "stdout",
     "output_type": "stream",
     "text": [
      "3\n"
     ]
    }
   ],
   "source": [
    "#6\n",
    "first = (1, 2)\n",
    "second = (3, 4)\n",
    "\n",
    "#7\n",
    "print(sum(first))\n",
    "print(sum(second))\n",
    "\n",
    "#7 без вбудованих функцій\n",
    "sum = 0\n",
    "for number in numbers:\n",
    "    sum += number\n",
    "print(sum)"
   ]
  }
 ],
 "metadata": {
  "kernelspec": {
   "display_name": "Python 3",
   "language": "python",
   "name": "python3"
  },
  "language_info": {
   "codemirror_mode": {
    "name": "ipython",
    "version": 3
   },
   "file_extension": ".py",
   "mimetype": "text/x-python",
   "name": "python",
   "nbconvert_exporter": "python",
   "pygments_lexer": "ipython3",
   "version": "3.10.5"
  },
  "orig_nbformat": 4,
  "vscode": {
   "interpreter": {
    "hash": "26de051ba29f2982a8de78e945f0abaf191376122a1563185a90213a26c5da77"
   }
  }
 },
 "nbformat": 4,
 "nbformat_minor": 2
}
