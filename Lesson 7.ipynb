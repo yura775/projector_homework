{
 "cells": [
  {
   "attachments": {},
   "cell_type": "markdown",
   "metadata": {},
   "source": [
    "Practice block 1\n",
    "Write a Python program to compute the difference between two lists.\n",
    "\n",
    "Sample data: ['a', 'b', 'c', 'd'], ['c', 'd', 'e']\n",
    "\n",
    "Expected Output:\n",
    "\n",
    "first-second: ['a', 'b']\n",
    "\n",
    "second-first: ['e']"
   ]
  },
  {
   "cell_type": "code",
   "execution_count": null,
   "metadata": {},
   "outputs": [],
   "source": [
    "def list_difference(list1, list2):\n",
    "    return list(set(list1) - set(list2)), list(set(list2) - set(list1))\n",
    "\n",
    "list1 = ['a', 'b', 'c', 'd']\n",
    "list2 = ['c', 'd', 'e']\n",
    "result1, result2 = list_difference(list1, list2)\n",
    "print(\"Elements in list1 but not in list2: \", result1)\n",
    "print(\"Elements in list2 but not in list1: \", result2)"
   ]
  },
  {
   "attachments": {},
   "cell_type": "markdown",
   "metadata": {},
   "source": [
    "Given an array of integers nums and an integer target, return indices of the two numbers such that they add up to target.\n",
    "\n",
    "You may assume that each input would have exactly one solution, and you may not use the same element twice.\n",
    "\n",
    "You can return the answer in any order."
   ]
  },
  {
   "cell_type": "code",
   "execution_count": null,
   "metadata": {},
   "outputs": [],
   "source": [
    "def two_sum(nums, target):\n",
    "    nums_map = {}\n",
    "    for i, num in enumerate(nums):\n",
    "        if target - num in nums_map:\n",
    "            return [nums_map[target - num], i]\n",
    "        else:\n",
    "            nums_map[num] = i\n",
    "\n",
    "nums = [3, 2, 4]\n",
    "target = 6\n",
    "print(two_sum(nums, target))"
   ]
  },
  {
   "attachments": {},
   "cell_type": "markdown",
   "metadata": {},
   "source": [
    "Optional (hard): Longest Increasing Sequence\n",
    "\n",
    "Have the function longest_increasing_sequence take the list of positive integers and return the length of the longest increasing subsequence (LIS). A LIS is a subset of the original list where the numbers are in sorted order, from lowest to highest, and are in increasing order. The sequence does not need to be contiguous or unique, and there can be several different subsequences. For example: if arr is [4, 3, 5, 1, 6] then a possible LIS is [3, 5, 6], and another is [1, 6]. For this input, your program should return 3 because that is the length of the longest increasing subsequence."
   ]
  },
  {
   "cell_type": "code",
   "execution_count": 9,
   "metadata": {},
   "outputs": [
    {
     "name": "stdout",
     "output_type": "stream",
     "text": [
      "7\n"
     ]
    }
   ],
   "source": [
    "def longest_increasing_sequence(arr):\n",
    "    n = len(arr)\n",
    "    lis = [1] * n\n",
    "    for i in range(1, n):\n",
    "        for j in range(0, i):\n",
    "            if arr[i] > arr[j] and lis[i] < lis[j] + 1 :\n",
    "                lis[i] = lis[j]+1\n",
    "    maximum = 0\n",
    "    for i in range(n):\n",
    "        maximum = max(maximum, lis[i])\n",
    "    return maximum\n",
    "\n",
    "arr = [10, 22, 9, 33, 21, 50, 41, 60, 22, 68, 90]\n",
    "print(longest_increasing_sequence(arr))"
   ]
  },
  {
   "attachments": {},
   "cell_type": "markdown",
   "metadata": {},
   "source": [
    "Practice block 2\n",
    "Create a list with next values [1, 4, 2, 5]. Create a sorted copy of that list w/o changing the original list.\n",
    "Sort the following list by population. Calculate average and total population for cities from this list:\n",
    "[\n",
    "    ('New York City', 8550405),\n",
    "    ('Los Angeles', 3792621),\n",
    "    ('Chicago', 2695598),\n",
    "    ('Houston', 2100263),\n",
    "    ('Philadelphia', 1526006),\n",
    "    ('Phoenix', 1445632),\n",
    "    ('San Antonio', 1327407),\n",
    "    ('San Diego', 1307402),\n",
    "    ('Dallas', 1197816),\n",
    "    ('San Jose', 945942),\n",
    "]"
   ]
  },
  {
   "cell_type": "code",
   "execution_count": null,
   "metadata": {},
   "outputs": [],
   "source": [
    "#1\n",
    "original_list = [1, 4, 2, 5]\n",
    "sorted_list = sorted(original_list)\n",
    "print(\"Original List: \", original_list)\n",
    "print(\"Sorted List: \", sorted_list)"
   ]
  },
  {
   "cell_type": "code",
   "execution_count": 11,
   "metadata": {},
   "outputs": [
    {
     "name": "stdout",
     "output_type": "stream",
     "text": [
      "Sorted by population:  [('New York City', 8550405), ('Los Angeles', 3792621), ('Chicago', 2695598), ('Houston', 2100263), ('Philadelphia', 1526006), ('Phoenix', 1445632), ('San Antonio', 1327407), ('San Diego', 1307402), ('Dallas', 1197816), ('San Jose', 945942)]\n",
      "Total population:  24889092\n",
      "Average population:  2488909.2\n"
     ]
    }
   ],
   "source": [
    "#2\n",
    "cities = [\n",
    "    ('New York City', 8550405),\n",
    "    ('Los Angeles', 3792621),\n",
    "    ('Chicago', 2695598),\n",
    "    ('Houston', 2100263),\n",
    "    ('Philadelphia', 1526006),\n",
    "    ('Phoenix', 1445632),\n",
    "    ('San Antonio', 1327407),\n",
    "    ('San Diego', 1307402),\n",
    "    ('Dallas', 1197816),\n",
    "    ('San Jose', 945942),\n",
    "]\n",
    "\n",
    "cities.sort(key=lambda x: x[1], reverse=True)\n",
    "print(\"Sorted by population: \", cities)\n",
    "\n",
    "total_population = sum(city[1] for city in cities)\n",
    "average_population = total_population / len(cities)\n",
    "\n",
    "print(\"Total population: \", total_population)\n",
    "print(\"Average population: \", average_population)\n"
   ]
  }
 ],
 "metadata": {
  "kernelspec": {
   "display_name": "Python 3",
   "language": "python",
   "name": "python3"
  },
  "language_info": {
   "codemirror_mode": {
    "name": "ipython",
    "version": 3
   },
   "file_extension": ".py",
   "mimetype": "text/x-python",
   "name": "python",
   "nbconvert_exporter": "python",
   "pygments_lexer": "ipython3",
   "version": "3.10.5"
  },
  "orig_nbformat": 4,
  "vscode": {
   "interpreter": {
    "hash": "26de051ba29f2982a8de78e945f0abaf191376122a1563185a90213a26c5da77"
   }
  }
 },
 "nbformat": 4,
 "nbformat_minor": 2
}
