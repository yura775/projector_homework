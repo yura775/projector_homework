{
 "cells": [
  {
   "attachments": {},
   "cell_type": "markdown",
   "metadata": {},
   "source": [
    "Practice 1:\n",
    "Create emtpy dictionary named en_ua_dictionary.\n",
    "\n",
    "Add few key-value pairs to the dictionary. Example: 'red': 'червоний'\n",
    "\n",
    "Check if the dictionary contains key 'blue' and 'purple'. If not, set their values to unknown.\n",
    "\n",
    "Create a loop over existing values and print them to the console in the following format:\n",
    "\n",
    "Red in Ukrainian is червоний\n",
    "Delete all key-values pairs from the dictionary if the lenght of value is lower than 5.\n",
    "\n",
    "Write a game where user should guess of a capital of the country that you have in your dictionary.\n",
    "\n",
    "capitals = { 'Ukraine': 'Kyiv', 'France': 'Paris', 'Germany': 'Berlin', 'Italy': 'Rome', 'USA': 'Washington', 'Canada': 'Ottawa', 'Switzerland': 'Bern', 'Austria': 'Vienna', 'Belgium': 'Brussels', 'Sweden': 'Stockholm', 'Norway': 'Oslo', 'Denmark': 'Copenhagen', 'Finland': 'Helsinki', 'Poland': 'Warsaw', 'Romania': 'Bucharest', 'Bulgaria': 'Sofia', 'Greece': 'Athens', ... }\n",
    "\n",
    "You should show user a random country from the list and ask him to guess the capital. If user input right capital, print \"You are right!\", add him a point and ask him to guess another country. If not, you should ask again. User should be able to quit the game by typing \"exit\". You should print current score after each round. Also, you should print the final score before user quit the game.\n",
    "\n",
    "Optional:\n",
    "\n",
    "Give user a hint if he guesses wrong. Hint should looks like first letter of the capital. If you user make another mistake, you should print one more letter from the capital.\n",
    "\n",
    "If user make a mistake you should decrement his lives. Initial amount of lives is 3. Game will end when user has no lives left. You should print the final score after user has no lives left."
   ]
  },
  {
   "cell_type": "code",
   "execution_count": null,
   "metadata": {},
   "outputs": [],
   "source": [
    "#1 Create emtpy dictionary named en_ua_dictionary.\n",
    "en_ua_dictionary = {}\n",
    "#2 Add few key-value pairs to the dictionary. Example: 'red': 'червоний'\n",
    "en_ua_dictionary['red'] = 'червоний'\n",
    "en_ua_dictionary['green'] = 'зелений'\n",
    "en_ua_dictionary['blue'] = 'блакитний'\n",
    "en_ua_dictionary['yellow'] = 'жовтий'\n",
    "en_ua_dictionary['black'] = 'чорний'\n",
    "en_ua_dictionary['white'] = 'білий'\n",
    "\n",
    "if 'blue' not in en_ua_dictionary:\n",
    "    en_ua_dictionary['blue'] = 'unknown'\n",
    "\n",
    "#3 Check if the dictionary contains key 'blue' and 'purple'. If not, set their values to unknown.\n",
    "if 'purple' not in en_ua_dictionary:\n",
    "    en_ua_dictionary['purple'] = 'unknown'\n",
    "\n",
    "#4 Create a loop over existing values and print them to the console in the following format: Red in Ukrainian is червоний\n",
    "for key, value in en_ua_dictionary.items():\n",
    "    print(key.capitalize() + \" in Ukrainian is \" + value)\n",
    "\n",
    "#5 Delete all key-values pairs from the dictionary if the lenght of value is lower than 5.\n",
    "for key, value in list(en_ua_dictionary.items()):\n",
    "    if len(value)<5:\n",
    "        del en_ua_dictionary[key]\n",
    "\n",
    "\n"
   ]
  },
  {
   "attachments": {},
   "cell_type": "markdown",
   "metadata": {},
   "source": [
    "Write a game where user should guess of a capital of the country that you have in your dictionary.\n",
    "\n",
    "capitals = { 'Ukraine': 'Kyiv', 'France': 'Paris', 'Germany': 'Berlin', 'Italy': 'Rome', 'USA': 'Washington', 'Canada': 'Ottawa', 'Switzerland': 'Bern', 'Austria': 'Vienna', 'Belgium': 'Brussels', 'Sweden': 'Stockholm', 'Norway': 'Oslo', 'Denmark': 'Copenhagen', 'Finland': 'Helsinki', 'Poland': 'Warsaw', 'Romania': 'Bucharest', 'Bulgaria': 'Sofia', 'Greece': 'Athens', ... }\n",
    "\n",
    "You should show user a random country from the list and ask him to guess the capital. If user input right capital, print \"You are right!\", add him a point and ask him to guess another country. If not, you should ask again. User should be able to quit the game by typing \"exit\". You should print current score after each round. Also, you should print the final score before user quit the game."
   ]
  },
  {
   "cell_type": "code",
   "execution_count": null,
   "metadata": {},
   "outputs": [],
   "source": [
    "import random\n",
    "\n",
    "capitals = { 'Ukraine': 'Kyiv', 'France': 'Paris', 'Germany': 'Berlin', 'Italy': 'Rome', 'USA': 'Washington', 'Canada': 'Ottawa', 'Switzerland': 'Bern', 'Austria': 'Vienna', 'Belgium': 'Brussels', 'Sweden': 'Stockholm', 'Norway': 'Oslo', 'Denmark': 'Copenhagen', 'Finland': 'Helsinki', 'Poland': 'Warsaw', 'Romania': 'Bucharest', 'Bulgaria': 'Sofia', 'Greece': 'Athens' }\n",
    "\n",
    "score = 0\n",
    "\n",
    "while True:\n",
    "    country = random.choice(list(capitals.keys()))\n",
    "    print(\"What is the capital of\", country, \"?\")\n",
    "    answer = input()\n",
    "    if answer == \"exit\":\n",
    "        print(\"Your final score is\", score)\n",
    "        break\n",
    "    if answer == capitals[country]:\n",
    "        print(\"You are right!\")\n",
    "        score += 1\n",
    "        print(\"Your current score is\", score)\n",
    "    else:\n",
    "        print(\"Sorry, the correct answer is\", capitals[country])\n"
   ]
  }
 ],
 "metadata": {
  "kernelspec": {
   "display_name": "Python 3",
   "language": "python",
   "name": "python3"
  },
  "language_info": {
   "codemirror_mode": {
    "name": "ipython",
    "version": 3
   },
   "file_extension": ".py",
   "mimetype": "text/x-python",
   "name": "python",
   "nbconvert_exporter": "python",
   "pygments_lexer": "ipython3",
   "version": "3.10.5"
  },
  "orig_nbformat": 4,
  "vscode": {
   "interpreter": {
    "hash": "26de051ba29f2982a8de78e945f0abaf191376122a1563185a90213a26c5da77"
   }
  }
 },
 "nbformat": 4,
 "nbformat_minor": 2
}
